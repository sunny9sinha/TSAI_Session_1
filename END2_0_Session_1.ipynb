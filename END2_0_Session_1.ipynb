{
  "nbformat": 4,
  "nbformat_minor": 0,
  "metadata": {
    "colab": {
      "name": "END2.0 Session 1.ipynb",
      "provenance": [],
      "collapsed_sections": [],
      "include_colab_link": true
    },
    "kernelspec": {
      "name": "python3",
      "display_name": "Python 3"
    },
    "language_info": {
      "name": "python"
    },
    "accelerator": "GPU"
  },
  "cells": [
    {
      "cell_type": "markdown",
      "metadata": {
        "id": "view-in-github",
        "colab_type": "text"
      },
      "source": [
        "<a href=\"https://colab.research.google.com/github/sunny9sinha/TSAI_Session_1/blob/main/END2_0_Session_1.ipynb\" target=\"_parent\"><img src=\"https://colab.research.google.com/assets/colab-badge.svg\" alt=\"Open In Colab\"/></a>"
      ]
    },
    {
      "cell_type": "code",
      "metadata": {
        "colab": {
          "base_uri": "https://localhost:8080/"
        },
        "id": "GC_6PeobwwkH",
        "outputId": "a8228fdc-e8bd-4e87-d43e-020fb1708e83"
      },
      "source": [
        "import torch\n",
        "from torch.autograd import Variable\n",
        "import torch.nn as nn\n",
        "import torch.nn.functional as F\n",
        "import torch.optim as optim\n",
        "import numpy as np\n",
        "import matplotlib.pyplot as plt\n",
        "%matplotlib inline\n",
        "torch.manual_seed(2)"
      ],
      "execution_count": null,
      "outputs": [
        {
          "output_type": "execute_result",
          "data": {
            "text/plain": [
              "<torch._C.Generator at 0x7ff035731510>"
            ]
          },
          "metadata": {
            "tags": []
          },
          "execution_count": 1
        }
      ]
    },
    {
      "cell_type": "code",
      "metadata": {
        "id": "bL64bMTkw2GP"
      },
      "source": [
        "X = torch.Tensor([[0,0], [0,1], [1,0], [1,1]])\n",
        "Y = torch.Tensor([0, 1, 1, 0]).view(-1,1)"
      ],
      "execution_count": null,
      "outputs": []
    },
    {
      "cell_type": "code",
      "metadata": {
        "id": "aC82kEAIw3Wf"
      },
      "source": [
        "class XOR(nn.Module):\n",
        "    def __init__(self, input_dim = 2, output_dim=1):\n",
        "        super(XOR, self).__init__()\n",
        "        self.lin1 = nn.Linear(input_dim, 5)\n",
        "        self.lin2 = nn.Linear(5, 4)\n",
        "        self.lin3 = nn.Linear(4,output_dim)\n",
        "    \n",
        "    def forward(self, x):\n",
        "        x = self.lin1(x)\n",
        "        x = F.tanh(x)\n",
        "        x = self.lin2(x)\n",
        "        x = F.tanh(x)\n",
        "        x = self.lin3(x)\n",
        "        return x"
      ],
      "execution_count": null,
      "outputs": []
    },
    {
      "cell_type": "code",
      "metadata": {
        "colab": {
          "base_uri": "https://localhost:8080/"
        },
        "id": "8gQIQExYw65K",
        "outputId": "a5b76c60-6220-444a-c2c8-d46416c0a418"
      },
      "source": [
        "device = torch.device(\"cuda\" if torch.cuda.is_available() else \"cpu\")\n",
        "\n",
        "model = XOR()\n",
        "model = model.to(device)\n",
        "print(model)\n",
        "from torchsummary import summary\n",
        "summary(model, (2,2))"
      ],
      "execution_count": null,
      "outputs": [
        {
          "output_type": "stream",
          "text": [
            "XOR(\n",
            "  (lin1): Linear(in_features=2, out_features=5, bias=True)\n",
            "  (lin2): Linear(in_features=5, out_features=4, bias=True)\n",
            "  (lin3): Linear(in_features=4, out_features=1, bias=True)\n",
            ")\n",
            "----------------------------------------------------------------\n",
            "        Layer (type)               Output Shape         Param #\n",
            "================================================================\n",
            "            Linear-1                 [-1, 2, 5]              15\n",
            "            Linear-2                 [-1, 2, 4]              24\n",
            "            Linear-3                 [-1, 2, 1]               5\n",
            "================================================================\n",
            "Total params: 44\n",
            "Trainable params: 44\n",
            "Non-trainable params: 0\n",
            "----------------------------------------------------------------\n",
            "Input size (MB): 0.00\n",
            "Forward/backward pass size (MB): 0.00\n",
            "Params size (MB): 0.00\n",
            "Estimated Total Size (MB): 0.00\n",
            "----------------------------------------------------------------\n"
          ],
          "name": "stdout"
        },
        {
          "output_type": "stream",
          "text": [
            "/usr/local/lib/python3.7/dist-packages/torch/nn/functional.py:1698: UserWarning: nn.functional.tanh is deprecated. Use torch.tanh instead.\n",
            "  warnings.warn(\"nn.functional.tanh is deprecated. Use torch.tanh instead.\")\n"
          ],
          "name": "stderr"
        }
      ]
    },
    {
      "cell_type": "code",
      "metadata": {
        "id": "yeotEq19x6XF"
      },
      "source": [
        "def weights_init(model):\n",
        "    for m in model.modules():\n",
        "        if isinstance(m, nn.Linear):\n",
        "            # initialize the weight tensor, here we use a normal distribution\n",
        "            m.weight.data.normal_(0, 1)\n",
        "\n",
        "weights_init(model)"
      ],
      "execution_count": null,
      "outputs": []
    },
    {
      "cell_type": "code",
      "metadata": {
        "id": "WrD_sNzLx78e"
      },
      "source": [
        "loss_func = nn.L1Loss()"
      ],
      "execution_count": null,
      "outputs": []
    },
    {
      "cell_type": "code",
      "metadata": {
        "id": "-zvbrMd2x_lA"
      },
      "source": [
        "optimizer = optim.SGD(model.parameters(), lr=0.02, momentum=0.9)\n"
      ],
      "execution_count": null,
      "outputs": []
    },
    {
      "cell_type": "code",
      "metadata": {
        "colab": {
          "base_uri": "https://localhost:8080/"
        },
        "id": "q7tWa3D7yA5X",
        "outputId": "ef791993-0a3d-4d94-eb31-20a9fdc40e91"
      },
      "source": [
        "epochs = 2001\n",
        "steps = X.size(0)\n",
        "for i in range(epochs):\n",
        "    for j in range(steps):\n",
        "        data_point = np.random.randint(X.size(0))\n",
        "        x_var = Variable(X[data_point], requires_grad=False).to(device)\n",
        "        y_var = Variable(Y[data_point], requires_grad=False).to(device)\n",
        "        \n",
        "        optimizer.zero_grad()\n",
        "        y_hat = model(x_var).to(device)\n",
        "        loss = loss_func.forward(y_hat, y_var)\n",
        "        loss.backward()\n",
        "        optimizer.step()\n",
        "        \n",
        "    if i % 50 == 0:\n",
        "        print( \"Epoch: {0}, Loss: {1}, \".format(i, loss.cpu().data.numpy()))"
      ],
      "execution_count": null,
      "outputs": [
        {
          "output_type": "stream",
          "text": [
            "/usr/local/lib/python3.7/dist-packages/torch/nn/functional.py:1698: UserWarning: nn.functional.tanh is deprecated. Use torch.tanh instead.\n",
            "  warnings.warn(\"nn.functional.tanh is deprecated. Use torch.tanh instead.\")\n"
          ],
          "name": "stderr"
        },
        {
          "output_type": "stream",
          "text": [
            "Epoch: 0, Loss: 0.793096661567688, \n",
            "Epoch: 50, Loss: 1.706195592880249, \n",
            "Epoch: 100, Loss: 0.08775299787521362, \n",
            "Epoch: 150, Loss: 0.045394182205200195, \n",
            "Epoch: 200, Loss: 0.21293628215789795, \n",
            "Epoch: 250, Loss: 0.5511311888694763, \n",
            "Epoch: 300, Loss: 0.3030660152435303, \n",
            "Epoch: 350, Loss: 0.4310868978500366, \n",
            "Epoch: 400, Loss: 0.317080020904541, \n",
            "Epoch: 450, Loss: 0.13524794578552246, \n",
            "Epoch: 500, Loss: 0.08498728275299072, \n",
            "Epoch: 550, Loss: 0.32118290662765503, \n",
            "Epoch: 600, Loss: 0.6098030805587769, \n",
            "Epoch: 650, Loss: 0.10046100616455078, \n",
            "Epoch: 700, Loss: 0.23577404022216797, \n",
            "Epoch: 750, Loss: 0.27182674407958984, \n",
            "Epoch: 800, Loss: 0.12073910236358643, \n",
            "Epoch: 850, Loss: 0.6695206165313721, \n",
            "Epoch: 900, Loss: 0.1801774501800537, \n",
            "Epoch: 950, Loss: 0.8299700021743774, \n",
            "Epoch: 1000, Loss: 0.09474027156829834, \n",
            "Epoch: 1050, Loss: 0.667270302772522, \n",
            "Epoch: 1100, Loss: 0.11250323802232742, \n",
            "Epoch: 1150, Loss: 0.38971030712127686, \n",
            "Epoch: 1200, Loss: 0.011568762362003326, \n",
            "Epoch: 1250, Loss: 0.11299794912338257, \n",
            "Epoch: 1300, Loss: 0.05937357246875763, \n",
            "Epoch: 1350, Loss: 0.06547814607620239, \n",
            "Epoch: 1400, Loss: 0.23873278498649597, \n",
            "Epoch: 1450, Loss: 0.015919536352157593, \n",
            "Epoch: 1500, Loss: 0.3208332359790802, \n",
            "Epoch: 1550, Loss: 0.0868537425994873, \n",
            "Epoch: 1600, Loss: 0.0017633996903896332, \n",
            "Epoch: 1650, Loss: 0.005084633827209473, \n",
            "Epoch: 1700, Loss: 0.07819950580596924, \n",
            "Epoch: 1750, Loss: 0.041579172015190125, \n",
            "Epoch: 1800, Loss: 0.005421996116638184, \n",
            "Epoch: 1850, Loss: 0.07416534423828125, \n",
            "Epoch: 1900, Loss: 0.15162020921707153, \n",
            "Epoch: 1950, Loss: 0.5244677662849426, \n",
            "Epoch: 2000, Loss: 0.06058299541473389, \n"
          ],
          "name": "stdout"
        }
      ]
    },
    {
      "cell_type": "code",
      "metadata": {
        "id": "QV0dIdveyCRi"
      },
      "source": [
        ""
      ],
      "execution_count": null,
      "outputs": []
    }
  ]
}